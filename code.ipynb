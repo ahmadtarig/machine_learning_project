{
 "cells": [
  {
   "cell_type": "markdown",
   "id": "323e71eb-e66f-43d0-8829-38e329c771f9",
   "metadata": {},
   "source": [
    "# Import Section   \n",
    "###### pandas : used to create data frame object.\n",
    "###### pyplot : visualize data components."
   ]
  },
  {
   "cell_type": "code",
   "execution_count": 1,
   "id": "98b628b7-17d3-484c-8117-50566410d64f",
   "metadata": {},
   "outputs": [],
   "source": [
    "import pandas as pd\n",
    "import seaborn as sns\n",
    "import matplotlib.pyplot as plt\n",
    "from sklearn.naive_bayes import GaussianNB\n",
    "from sklearn.preprocessing import StandardScaler \n",
    "from sklearn.model_selection import train_test_split\n",
    "from sklearn.metrics import accuracy_score, f1_score, recall_score"
   ]
  },
  {
   "cell_type": "markdown",
   "id": "5e941804-f24c-4f5d-9186-06e508a4544f",
   "metadata": {},
   "source": [
    "#  Data Explorations Section   \n",
    "###### Summarize the key characteristics and \n",
    "###### distributions of the variables."
   ]
  },
  {
   "cell_type": "markdown",
   "id": "bbfd7f4b-520c-421b-9704-4ec73c5763a4",
   "metadata": {},
   "source": [
    "Information about the dataset:\n",
    "a. Columns Overview:\n",
    "1. Numerical Columns:  \n",
    "- battery_power: Ranges from 501 to 1998 with a mean of 1238.52.  \n",
    "- clock_speed: Processor speed ranges from 0.5 GHz to 3 GHz.  \n",
    "- int_memory: Internal memory ranges from 2 GB to 64 GB.  \n",
    "- ram: RAM ranges from 256 MB to 3998 MB.  \n",
    "- talk_time: Battery talk time ranges from 2 to 20 hours.\n",
    "\n",
    "2. Categorical/Binary Columns:  \n",
    "- blue: Bluetooth availability (0: No, 1: Yes).  \n",
    "- dual_sim: Dual SIM support (0: No, 1: Yes).  \n",
    "- four_g: 4G support (0: No, 1: Yes).  \n",
    "- three_g: 3G support (0: No, 1: Yes).  \n",
    "- touch_screen: Touch screen availability (0: No, 1: Yes).  \n",
    "- wifi: Wi-Fi support (0: No, 1: Yes).\n",
    "\n",
    "3. Target Column:  \n",
    "- price_range: Categorical values (0 to 3) indicating the price range of the mobile phones.\n",
    "\n",
    "4. Other Features:  \n",
    "- fc and pc: Front and primary camera megapixels.  \n",
    "- sc_h and sc_w: Screen height and width in cm.  \n",
    "- px_height and px_width: Screen pixel resolution.  \n",
    "- mobile_wt: Weight of the mobile phone in grams.  \n",
    "- n_cores: Number of cores in the processor.  \n",
    "- m_dep: Mobile depth in cm.\n"
   ]
  },
  {
   "cell_type": "code",
   "execution_count": 2,
   "id": "d9f2e9b2-a05a-488b-a4a6-31816fb27a46",
   "metadata": {
    "scrolled": true
   },
   "outputs": [
    {
     "data": {
      "text/html": [
       "<div>\n",
       "<style scoped>\n",
       "    .dataframe tbody tr th:only-of-type {\n",
       "        vertical-align: middle;\n",
       "    }\n",
       "\n",
       "    .dataframe tbody tr th {\n",
       "        vertical-align: top;\n",
       "    }\n",
       "\n",
       "    .dataframe thead th {\n",
       "        text-align: right;\n",
       "    }\n",
       "</style>\n",
       "<table border=\"1\" class=\"dataframe\">\n",
       "  <thead>\n",
       "    <tr style=\"text-align: right;\">\n",
       "      <th></th>\n",
       "      <th>battery_power</th>\n",
       "      <th>blue</th>\n",
       "      <th>clock_speed</th>\n",
       "      <th>dual_sim</th>\n",
       "      <th>fc</th>\n",
       "      <th>four_g</th>\n",
       "      <th>int_memory</th>\n",
       "      <th>m_dep</th>\n",
       "      <th>mobile_wt</th>\n",
       "      <th>n_cores</th>\n",
       "      <th>...</th>\n",
       "      <th>px_height</th>\n",
       "      <th>px_width</th>\n",
       "      <th>ram</th>\n",
       "      <th>sc_h</th>\n",
       "      <th>sc_w</th>\n",
       "      <th>talk_time</th>\n",
       "      <th>three_g</th>\n",
       "      <th>touch_screen</th>\n",
       "      <th>wifi</th>\n",
       "      <th>price_range</th>\n",
       "    </tr>\n",
       "  </thead>\n",
       "  <tbody>\n",
       "    <tr>\n",
       "      <th>0</th>\n",
       "      <td>842</td>\n",
       "      <td>0</td>\n",
       "      <td>2.2</td>\n",
       "      <td>0</td>\n",
       "      <td>1</td>\n",
       "      <td>0</td>\n",
       "      <td>7</td>\n",
       "      <td>0.6</td>\n",
       "      <td>188</td>\n",
       "      <td>2</td>\n",
       "      <td>...</td>\n",
       "      <td>20</td>\n",
       "      <td>756</td>\n",
       "      <td>2549</td>\n",
       "      <td>9</td>\n",
       "      <td>7</td>\n",
       "      <td>19</td>\n",
       "      <td>0</td>\n",
       "      <td>0</td>\n",
       "      <td>1</td>\n",
       "      <td>1</td>\n",
       "    </tr>\n",
       "    <tr>\n",
       "      <th>1</th>\n",
       "      <td>1021</td>\n",
       "      <td>1</td>\n",
       "      <td>0.5</td>\n",
       "      <td>1</td>\n",
       "      <td>0</td>\n",
       "      <td>1</td>\n",
       "      <td>53</td>\n",
       "      <td>0.7</td>\n",
       "      <td>136</td>\n",
       "      <td>3</td>\n",
       "      <td>...</td>\n",
       "      <td>905</td>\n",
       "      <td>1988</td>\n",
       "      <td>2631</td>\n",
       "      <td>17</td>\n",
       "      <td>3</td>\n",
       "      <td>7</td>\n",
       "      <td>1</td>\n",
       "      <td>1</td>\n",
       "      <td>0</td>\n",
       "      <td>2</td>\n",
       "    </tr>\n",
       "    <tr>\n",
       "      <th>2</th>\n",
       "      <td>563</td>\n",
       "      <td>1</td>\n",
       "      <td>0.5</td>\n",
       "      <td>1</td>\n",
       "      <td>2</td>\n",
       "      <td>1</td>\n",
       "      <td>41</td>\n",
       "      <td>0.9</td>\n",
       "      <td>145</td>\n",
       "      <td>5</td>\n",
       "      <td>...</td>\n",
       "      <td>1263</td>\n",
       "      <td>1716</td>\n",
       "      <td>2603</td>\n",
       "      <td>11</td>\n",
       "      <td>2</td>\n",
       "      <td>9</td>\n",
       "      <td>1</td>\n",
       "      <td>1</td>\n",
       "      <td>0</td>\n",
       "      <td>2</td>\n",
       "    </tr>\n",
       "    <tr>\n",
       "      <th>3</th>\n",
       "      <td>615</td>\n",
       "      <td>1</td>\n",
       "      <td>2.5</td>\n",
       "      <td>0</td>\n",
       "      <td>0</td>\n",
       "      <td>0</td>\n",
       "      <td>10</td>\n",
       "      <td>0.8</td>\n",
       "      <td>131</td>\n",
       "      <td>6</td>\n",
       "      <td>...</td>\n",
       "      <td>1216</td>\n",
       "      <td>1786</td>\n",
       "      <td>2769</td>\n",
       "      <td>16</td>\n",
       "      <td>8</td>\n",
       "      <td>11</td>\n",
       "      <td>1</td>\n",
       "      <td>0</td>\n",
       "      <td>0</td>\n",
       "      <td>2</td>\n",
       "    </tr>\n",
       "    <tr>\n",
       "      <th>4</th>\n",
       "      <td>1821</td>\n",
       "      <td>1</td>\n",
       "      <td>1.2</td>\n",
       "      <td>0</td>\n",
       "      <td>13</td>\n",
       "      <td>1</td>\n",
       "      <td>44</td>\n",
       "      <td>0.6</td>\n",
       "      <td>141</td>\n",
       "      <td>2</td>\n",
       "      <td>...</td>\n",
       "      <td>1208</td>\n",
       "      <td>1212</td>\n",
       "      <td>1411</td>\n",
       "      <td>8</td>\n",
       "      <td>2</td>\n",
       "      <td>15</td>\n",
       "      <td>1</td>\n",
       "      <td>1</td>\n",
       "      <td>0</td>\n",
       "      <td>1</td>\n",
       "    </tr>\n",
       "  </tbody>\n",
       "</table>\n",
       "<p>5 rows × 21 columns</p>\n",
       "</div>"
      ],
      "text/plain": [
       "   battery_power  blue  clock_speed  dual_sim  fc  four_g  int_memory  m_dep  \\\n",
       "0            842     0          2.2         0   1       0           7    0.6   \n",
       "1           1021     1          0.5         1   0       1          53    0.7   \n",
       "2            563     1          0.5         1   2       1          41    0.9   \n",
       "3            615     1          2.5         0   0       0          10    0.8   \n",
       "4           1821     1          1.2         0  13       1          44    0.6   \n",
       "\n",
       "   mobile_wt  n_cores  ...  px_height  px_width   ram  sc_h  sc_w  talk_time  \\\n",
       "0        188        2  ...         20       756  2549     9     7         19   \n",
       "1        136        3  ...        905      1988  2631    17     3          7   \n",
       "2        145        5  ...       1263      1716  2603    11     2          9   \n",
       "3        131        6  ...       1216      1786  2769    16     8         11   \n",
       "4        141        2  ...       1208      1212  1411     8     2         15   \n",
       "\n",
       "   three_g  touch_screen  wifi  price_range  \n",
       "0        0             0     1            1  \n",
       "1        1             1     0            2  \n",
       "2        1             1     0            2  \n",
       "3        1             0     0            2  \n",
       "4        1             1     0            1  \n",
       "\n",
       "[5 rows x 21 columns]"
      ]
     },
     "execution_count": 2,
     "metadata": {},
     "output_type": "execute_result"
    }
   ],
   "source": [
    "# read csv data file\n",
    "data = pd.read_csv(\"data.csv\")\n",
    "data.head()"
   ]
  },
  {
   "cell_type": "code",
   "execution_count": 3,
   "id": "00726dfe-16be-4524-926f-b67fa6272688",
   "metadata": {},
   "outputs": [
    {
     "name": "stdout",
     "output_type": "stream",
     "text": [
      "Column number : 21\t Row number : 2000\n"
     ]
    }
   ],
   "source": [
    "# print a dataset's dimension\n",
    "column_number = len(data.columns)\n",
    "row_number = len(data)\n",
    "print(f\"Column number : {column_number}\\t Row number : {row_number}\")"
   ]
  },
  {
   "cell_type": "code",
   "execution_count": 4,
   "id": "a74bfdfd-d79b-4c07-b106-6e5c2470efa8",
   "metadata": {},
   "outputs": [
    {
     "data": {
      "text/html": [
       "<div>\n",
       "<style scoped>\n",
       "    .dataframe tbody tr th:only-of-type {\n",
       "        vertical-align: middle;\n",
       "    }\n",
       "\n",
       "    .dataframe tbody tr th {\n",
       "        vertical-align: top;\n",
       "    }\n",
       "\n",
       "    .dataframe thead th {\n",
       "        text-align: right;\n",
       "    }\n",
       "</style>\n",
       "<table border=\"1\" class=\"dataframe\">\n",
       "  <thead>\n",
       "    <tr style=\"text-align: right;\">\n",
       "      <th></th>\n",
       "      <th>battery_power</th>\n",
       "      <th>blue</th>\n",
       "      <th>clock_speed</th>\n",
       "      <th>dual_sim</th>\n",
       "      <th>fc</th>\n",
       "      <th>four_g</th>\n",
       "      <th>int_memory</th>\n",
       "      <th>m_dep</th>\n",
       "      <th>mobile_wt</th>\n",
       "      <th>n_cores</th>\n",
       "      <th>...</th>\n",
       "      <th>px_height</th>\n",
       "      <th>px_width</th>\n",
       "      <th>ram</th>\n",
       "      <th>sc_h</th>\n",
       "      <th>sc_w</th>\n",
       "      <th>talk_time</th>\n",
       "      <th>three_g</th>\n",
       "      <th>touch_screen</th>\n",
       "      <th>wifi</th>\n",
       "      <th>price_range</th>\n",
       "    </tr>\n",
       "  </thead>\n",
       "  <tbody>\n",
       "    <tr>\n",
       "      <th>count</th>\n",
       "      <td>2000.000000</td>\n",
       "      <td>2000.0000</td>\n",
       "      <td>2000.000000</td>\n",
       "      <td>2000.000000</td>\n",
       "      <td>2000.000000</td>\n",
       "      <td>2000.000000</td>\n",
       "      <td>2000.000000</td>\n",
       "      <td>2000.000000</td>\n",
       "      <td>2000.000000</td>\n",
       "      <td>2000.000000</td>\n",
       "      <td>...</td>\n",
       "      <td>2000.000000</td>\n",
       "      <td>2000.000000</td>\n",
       "      <td>2000.000000</td>\n",
       "      <td>2000.000000</td>\n",
       "      <td>2000.000000</td>\n",
       "      <td>2000.000000</td>\n",
       "      <td>2000.000000</td>\n",
       "      <td>2000.000000</td>\n",
       "      <td>2000.000000</td>\n",
       "      <td>2000.000000</td>\n",
       "    </tr>\n",
       "    <tr>\n",
       "      <th>mean</th>\n",
       "      <td>1238.518500</td>\n",
       "      <td>0.4950</td>\n",
       "      <td>1.522250</td>\n",
       "      <td>0.509500</td>\n",
       "      <td>4.309500</td>\n",
       "      <td>0.521500</td>\n",
       "      <td>32.046500</td>\n",
       "      <td>0.501750</td>\n",
       "      <td>140.249000</td>\n",
       "      <td>4.520500</td>\n",
       "      <td>...</td>\n",
       "      <td>645.108000</td>\n",
       "      <td>1251.515500</td>\n",
       "      <td>2124.213000</td>\n",
       "      <td>12.306500</td>\n",
       "      <td>5.767000</td>\n",
       "      <td>11.011000</td>\n",
       "      <td>0.761500</td>\n",
       "      <td>0.503000</td>\n",
       "      <td>0.507000</td>\n",
       "      <td>1.500000</td>\n",
       "    </tr>\n",
       "    <tr>\n",
       "      <th>std</th>\n",
       "      <td>439.418206</td>\n",
       "      <td>0.5001</td>\n",
       "      <td>0.816004</td>\n",
       "      <td>0.500035</td>\n",
       "      <td>4.341444</td>\n",
       "      <td>0.499662</td>\n",
       "      <td>18.145715</td>\n",
       "      <td>0.288416</td>\n",
       "      <td>35.399655</td>\n",
       "      <td>2.287837</td>\n",
       "      <td>...</td>\n",
       "      <td>443.780811</td>\n",
       "      <td>432.199447</td>\n",
       "      <td>1084.732044</td>\n",
       "      <td>4.213245</td>\n",
       "      <td>4.356398</td>\n",
       "      <td>5.463955</td>\n",
       "      <td>0.426273</td>\n",
       "      <td>0.500116</td>\n",
       "      <td>0.500076</td>\n",
       "      <td>1.118314</td>\n",
       "    </tr>\n",
       "    <tr>\n",
       "      <th>min</th>\n",
       "      <td>501.000000</td>\n",
       "      <td>0.0000</td>\n",
       "      <td>0.500000</td>\n",
       "      <td>0.000000</td>\n",
       "      <td>0.000000</td>\n",
       "      <td>0.000000</td>\n",
       "      <td>2.000000</td>\n",
       "      <td>0.100000</td>\n",
       "      <td>80.000000</td>\n",
       "      <td>1.000000</td>\n",
       "      <td>...</td>\n",
       "      <td>0.000000</td>\n",
       "      <td>500.000000</td>\n",
       "      <td>256.000000</td>\n",
       "      <td>5.000000</td>\n",
       "      <td>0.000000</td>\n",
       "      <td>2.000000</td>\n",
       "      <td>0.000000</td>\n",
       "      <td>0.000000</td>\n",
       "      <td>0.000000</td>\n",
       "      <td>0.000000</td>\n",
       "    </tr>\n",
       "    <tr>\n",
       "      <th>25%</th>\n",
       "      <td>851.750000</td>\n",
       "      <td>0.0000</td>\n",
       "      <td>0.700000</td>\n",
       "      <td>0.000000</td>\n",
       "      <td>1.000000</td>\n",
       "      <td>0.000000</td>\n",
       "      <td>16.000000</td>\n",
       "      <td>0.200000</td>\n",
       "      <td>109.000000</td>\n",
       "      <td>3.000000</td>\n",
       "      <td>...</td>\n",
       "      <td>282.750000</td>\n",
       "      <td>874.750000</td>\n",
       "      <td>1207.500000</td>\n",
       "      <td>9.000000</td>\n",
       "      <td>2.000000</td>\n",
       "      <td>6.000000</td>\n",
       "      <td>1.000000</td>\n",
       "      <td>0.000000</td>\n",
       "      <td>0.000000</td>\n",
       "      <td>0.750000</td>\n",
       "    </tr>\n",
       "    <tr>\n",
       "      <th>50%</th>\n",
       "      <td>1226.000000</td>\n",
       "      <td>0.0000</td>\n",
       "      <td>1.500000</td>\n",
       "      <td>1.000000</td>\n",
       "      <td>3.000000</td>\n",
       "      <td>1.000000</td>\n",
       "      <td>32.000000</td>\n",
       "      <td>0.500000</td>\n",
       "      <td>141.000000</td>\n",
       "      <td>4.000000</td>\n",
       "      <td>...</td>\n",
       "      <td>564.000000</td>\n",
       "      <td>1247.000000</td>\n",
       "      <td>2146.500000</td>\n",
       "      <td>12.000000</td>\n",
       "      <td>5.000000</td>\n",
       "      <td>11.000000</td>\n",
       "      <td>1.000000</td>\n",
       "      <td>1.000000</td>\n",
       "      <td>1.000000</td>\n",
       "      <td>1.500000</td>\n",
       "    </tr>\n",
       "    <tr>\n",
       "      <th>75%</th>\n",
       "      <td>1615.250000</td>\n",
       "      <td>1.0000</td>\n",
       "      <td>2.200000</td>\n",
       "      <td>1.000000</td>\n",
       "      <td>7.000000</td>\n",
       "      <td>1.000000</td>\n",
       "      <td>48.000000</td>\n",
       "      <td>0.800000</td>\n",
       "      <td>170.000000</td>\n",
       "      <td>7.000000</td>\n",
       "      <td>...</td>\n",
       "      <td>947.250000</td>\n",
       "      <td>1633.000000</td>\n",
       "      <td>3064.500000</td>\n",
       "      <td>16.000000</td>\n",
       "      <td>9.000000</td>\n",
       "      <td>16.000000</td>\n",
       "      <td>1.000000</td>\n",
       "      <td>1.000000</td>\n",
       "      <td>1.000000</td>\n",
       "      <td>2.250000</td>\n",
       "    </tr>\n",
       "    <tr>\n",
       "      <th>max</th>\n",
       "      <td>1998.000000</td>\n",
       "      <td>1.0000</td>\n",
       "      <td>3.000000</td>\n",
       "      <td>1.000000</td>\n",
       "      <td>19.000000</td>\n",
       "      <td>1.000000</td>\n",
       "      <td>64.000000</td>\n",
       "      <td>1.000000</td>\n",
       "      <td>200.000000</td>\n",
       "      <td>8.000000</td>\n",
       "      <td>...</td>\n",
       "      <td>1960.000000</td>\n",
       "      <td>1998.000000</td>\n",
       "      <td>3998.000000</td>\n",
       "      <td>19.000000</td>\n",
       "      <td>18.000000</td>\n",
       "      <td>20.000000</td>\n",
       "      <td>1.000000</td>\n",
       "      <td>1.000000</td>\n",
       "      <td>1.000000</td>\n",
       "      <td>3.000000</td>\n",
       "    </tr>\n",
       "  </tbody>\n",
       "</table>\n",
       "<p>8 rows × 21 columns</p>\n",
       "</div>"
      ],
      "text/plain": [
       "       battery_power       blue  clock_speed     dual_sim           fc  \\\n",
       "count    2000.000000  2000.0000  2000.000000  2000.000000  2000.000000   \n",
       "mean     1238.518500     0.4950     1.522250     0.509500     4.309500   \n",
       "std       439.418206     0.5001     0.816004     0.500035     4.341444   \n",
       "min       501.000000     0.0000     0.500000     0.000000     0.000000   \n",
       "25%       851.750000     0.0000     0.700000     0.000000     1.000000   \n",
       "50%      1226.000000     0.0000     1.500000     1.000000     3.000000   \n",
       "75%      1615.250000     1.0000     2.200000     1.000000     7.000000   \n",
       "max      1998.000000     1.0000     3.000000     1.000000    19.000000   \n",
       "\n",
       "            four_g   int_memory        m_dep    mobile_wt      n_cores  ...  \\\n",
       "count  2000.000000  2000.000000  2000.000000  2000.000000  2000.000000  ...   \n",
       "mean      0.521500    32.046500     0.501750   140.249000     4.520500  ...   \n",
       "std       0.499662    18.145715     0.288416    35.399655     2.287837  ...   \n",
       "min       0.000000     2.000000     0.100000    80.000000     1.000000  ...   \n",
       "25%       0.000000    16.000000     0.200000   109.000000     3.000000  ...   \n",
       "50%       1.000000    32.000000     0.500000   141.000000     4.000000  ...   \n",
       "75%       1.000000    48.000000     0.800000   170.000000     7.000000  ...   \n",
       "max       1.000000    64.000000     1.000000   200.000000     8.000000  ...   \n",
       "\n",
       "         px_height     px_width          ram         sc_h         sc_w  \\\n",
       "count  2000.000000  2000.000000  2000.000000  2000.000000  2000.000000   \n",
       "mean    645.108000  1251.515500  2124.213000    12.306500     5.767000   \n",
       "std     443.780811   432.199447  1084.732044     4.213245     4.356398   \n",
       "min       0.000000   500.000000   256.000000     5.000000     0.000000   \n",
       "25%     282.750000   874.750000  1207.500000     9.000000     2.000000   \n",
       "50%     564.000000  1247.000000  2146.500000    12.000000     5.000000   \n",
       "75%     947.250000  1633.000000  3064.500000    16.000000     9.000000   \n",
       "max    1960.000000  1998.000000  3998.000000    19.000000    18.000000   \n",
       "\n",
       "         talk_time      three_g  touch_screen         wifi  price_range  \n",
       "count  2000.000000  2000.000000   2000.000000  2000.000000  2000.000000  \n",
       "mean     11.011000     0.761500      0.503000     0.507000     1.500000  \n",
       "std       5.463955     0.426273      0.500116     0.500076     1.118314  \n",
       "min       2.000000     0.000000      0.000000     0.000000     0.000000  \n",
       "25%       6.000000     1.000000      0.000000     0.000000     0.750000  \n",
       "50%      11.000000     1.000000      1.000000     1.000000     1.500000  \n",
       "75%      16.000000     1.000000      1.000000     1.000000     2.250000  \n",
       "max      20.000000     1.000000      1.000000     1.000000     3.000000  \n",
       "\n",
       "[8 rows x 21 columns]"
      ]
     },
     "execution_count": 4,
     "metadata": {},
     "output_type": "execute_result"
    }
   ],
   "source": [
    "# describe data set\n",
    "data.describe()"
   ]
  },
  {
   "cell_type": "code",
   "execution_count": 5,
   "id": "7e364e8d-6c3b-44a9-8bad-5fe53d9691c5",
   "metadata": {},
   "outputs": [
    {
     "data": {
      "image/png": "[encoded data removed]",
      "text/plain": [
       "<Figure size 1500x1500 with 25 Axes>"
      ]
     },
     "metadata": {},
     "output_type": "display_data"
    }
   ],
   "source": [
    "# show distributions for each feature using histogram\n",
    "data.hist(figsize=(15, 15), bins=20, color='skyblue', edgecolor='black')\n",
    "plt.suptitle('Histograms of Features', fontsize=16)\n",
    "plt.tight_layout(rect=[0, 0, 1, 0.96])\n",
    "plt.show()"
   ]
  },
  {
   "cell_type": "markdown",
   "id": "779ab3be-4578-40db-85c1-63135d85b07a",
   "metadata": {},
   "source": [
    "# Cleaning Section   \n",
    "1. fill or remove null cells.\n",
    "2. remove duplicate rows.\n",
    "3. handel outliers.\n",
    "4. dimention reduction.\n",
    "5. standarize data.\n",
    "6. Split into training and testing sets"
   ]
  },
  {
   "cell_type": "markdown",
   "id": "7f60622c-9425-4d0f-b19a-27366d4e9181",
   "metadata": {},
   "source": [
    "### 1. fill or remove null cells. "
   ]
  },
  {
   "cell_type": "code",
   "execution_count": 6,
   "id": "20871e8b-79a2-4de9-8265-8adf8bc98ab9",
   "metadata": {},
   "outputs": [
    {
     "name": "stdout",
     "output_type": "stream",
     "text": [
      "Number of cells that contain a null value :  0\n"
     ]
    }
   ],
   "source": [
    "# count number of null cells\n",
    "null_number = data.isnull().sum().sum()\n",
    "print(\"Number of cells that contain a null value : \", null_number) # ouput: 0\n",
    "# we don't have a null values"
   ]
  },
  {
   "cell_type": "markdown",
   "id": "3b3d3f4d-dd39-40de-b044-dd0759337c70",
   "metadata": {},
   "source": [
    "### 2. remove duplicate rows."
   ]
  },
  {
   "cell_type": "code",
   "execution_count": 7,
   "id": "92629c05-31fc-4797-be26-bac44206d02e",
   "metadata": {},
   "outputs": [
    {
     "name": "stdout",
     "output_type": "stream",
     "text": [
      "Number of duplicate row :  0\n"
     ]
    }
   ],
   "source": [
    "# count number of duplicate rows\n",
    "duplicate_number = data.duplicated().sum()\n",
    "print(\"Number of duplicate row : \", duplicate_number) # output: 0\n",
    "#we don't have a duplicate rows"
   ]
  },
  {
   "cell_type": "markdown",
   "id": "fcbc407b-244f-4c6c-a94c-86087fc0c569",
   "metadata": {},
   "source": [
    "### 3. handel outliers\n",
    "- The best way i like to use is box plot is easy, simple and very effective."
   ]
  },
  {
   "cell_type": "code",
   "execution_count": 8,
   "id": "491b71ed-75f3-45d0-a1f2-2cdea600613c",
   "metadata": {},
   "outputs": [
    {
     "data": {
      "image/png": "[encoded data removed]",
      "text/plain": [
       "<Figure size 1200x400 with 1 Axes>"
      ]
     },
     "metadata": {},
     "output_type": "display_data"
    }
   ],
   "source": [
    "# set size of figure\n",
    "plt.figure(figsize=(12, 4))\n",
    "\n",
    "# standarize a data\n",
    "scaler = StandardScaler()\n",
    "data_stander = scaler.fit_transform(data)\n",
    "# convert data from numpy to data frame\n",
    "data_stander = pd.DataFrame(data_stander) \n",
    "\n",
    "# show plots for each column\n",
    "data_stander.boxplot()\n",
    "plt.show()"
   ]
  },
  {
   "cell_type": "markdown",
   "id": "64b9d1b7-5f10-4781-ad24-ae07cf005441",
   "metadata": {},
   "source": [
    "- there are three columns contain outliers\n",
    "- show a range of column using box plot to get more information about outliers"
   ]
  },
  {
   "cell_type": "code",
   "execution_count": 9,
   "id": "55905e10-4a9e-4213-819a-99592433d3f3",
   "metadata": {},
   "outputs": [
    {
     "data": {
      "image/png": "[encoded data removed]",
      "text/plain": [
       "<Figure size 1200x400 with 3 Axes>"
      ]
     },
     "metadata": {},
     "output_type": "display_data"
    }
   ],
   "source": [
    "# show plots that contain out layer\n",
    "fig, axes = plt.subplots(1, 3, figsize=(12, 4))\n",
    "\n",
    "axes[0].boxplot(data[\"fc\"])\n",
    "\n",
    "\n",
    "axes[1].boxplot(data[\"px_height\"])\n",
    "\n",
    "\n",
    "axes[2].boxplot(data[\"three_g\"])\n",
    "\n",
    "plt.show()"
   ]
  },
  {
   "cell_type": "code",
   "execution_count": 10,
   "id": "8c78a21b-5bd7-49f1-801e-b45b922933cf",
   "metadata": {},
   "outputs": [
    {
     "name": "stdout",
     "output_type": "stream",
     "text": [
      "18\n",
      "2\n",
      "477\n"
     ]
    }
   ],
   "source": [
    "# numboer of outliers fo each column\n",
    "# Q1 is a list of quantile 0.25 fo the three column so as Q3, but Q3 is list of 1uantile 0.75\n",
    "Q1 = [data[\"fc\"].quantile(0.25), data[\"px_height\"].quantile(0.25), data[\"three_g\"].quantile(0.25)]\n",
    "Q3 = [data[\"fc\"].quantile(0.75), data[\"px_height\"].quantile(0.75), data[\"three_g\"].quantile(0.75)]\n",
    "\n",
    "# subtract Q1 list from Q3\n",
    "IQR = [a - b for a, b in zip(Q3, Q1)]\n",
    "\n",
    "# calculate upper and lower boundry list\n",
    "lower_boundry = [a - (1.5 * b) for a, b in zip(Q1, IQR)]\n",
    "upper_boundry = [a + (1.5 * b) for a, b in zip(Q3, IQR)]\n",
    "\n",
    "# finally we can sellect outlier for eache column\n",
    "outliers = {\n",
    "    \"fc\": data[\"fc\"][(data[\"fc\"] > upper_boundry[0]) | (data[\"fc\"] < lower_boundry[0])],\n",
    "    \"px_height\": data[\"px_height\"][(data[\"px_height\"] > upper_boundry[1]) | (data[\"px_height\"] < lower_boundry[1])],\n",
    "    \"three_g\": data[\"three_g\"][(data[\"three_g\"] > upper_boundry[2]) | (data[\"three_g\"] < lower_boundry[2])]\n",
    "}\n",
    "\n",
    "print(len(outliers.get(\"fc\")))\n",
    "print(len(outliers.get(\"px_height\")))\n",
    "print(len(outliers.get(\"three_g\")))"
   ]
  },
  {
   "cell_type": "markdown",
   "id": "abac3aad-54be-47f4-a358-7b0dd6c6f51b",
   "metadata": {},
   "source": [
    "#### 1. fc outliers"
   ]
  },
  {
   "cell_type": "code",
   "execution_count": 11,
   "id": "cec63f5d-2789-4bcb-a3dd-de45cec4afec",
   "metadata": {},
   "outputs": [
    {
     "name": "stdout",
     "output_type": "stream",
     "text": [
      "[17, 17, 17, 17, 17, 17, 18, 18, 18, 18, 18, 18, 18, 18, 18, 18, 18, 19]\n",
      "upper boundrey is : 16.0\n"
     ]
    }
   ],
   "source": [
    "print(sorted(outliers.get(\"fc\")))\n",
    "print(f\"upper boundrey is : {upper_boundry[0]}\")"
   ]
  },
  {
   "cell_type": "code",
   "execution_count": 12,
   "id": "f178b34b-2475-4e02-9d50-323cd017d468",
   "metadata": {},
   "outputs": [
    {
     "name": "stdout",
     "output_type": "stream",
     "text": [
      "1999\n"
     ]
    }
   ],
   "source": [
    "# remove outlier 19 becouse is too hight is set it with 18 for example becouse will decrease a model acurecy \n",
    "data = data.drop(1709)\n",
    "print(len(data[\"fc\"]))"
   ]
  },
  {
   "cell_type": "markdown",
   "id": "2a7dd208-205c-4e52-be5a-3c052a95e8f8",
   "metadata": {},
   "source": [
    "#### 2. px_height outliers"
   ]
  },
  {
   "cell_type": "code",
   "execution_count": 13,
   "id": "bb4efbbe-7b66-4a29-9372-25ece139b1f6",
   "metadata": {},
   "outputs": [
    {
     "name": "stdout",
     "output_type": "stream",
     "text": [
      "[1949, 1960]\n",
      "upper boundrey is : 1944.0\n"
     ]
    }
   ],
   "source": [
    "print(sorted(outliers.get(\"px_height\")))\n",
    "print(f\"upper boundrey is : {upper_boundry[1]}\")\n",
    "# the difference isn't that too mutch so i will keep it "
   ]
  },
  {
   "cell_type": "markdown",
   "id": "d28d10e1-3ed7-41bd-a073-61da4c99f34b",
   "metadata": {},
   "source": [
    "#### 3. three_g outliers"
   ]
  },
  {
   "cell_type": "code",
   "execution_count": 14,
   "id": "1b21f9f2-f37d-4e49-a196-b539b1d94e31",
   "metadata": {},
   "outputs": [
    {
     "name": "stdout",
     "output_type": "stream",
     "text": [
      "number of outlires that = 0 :  477\n",
      "number of outlires overall :  477\n"
     ]
    }
   ],
   "source": [
    "print(\"number of outlires that = 0 : \", outliers.get(\"three_g\")[outliers.get(\"three_g\") == 0].count())\n",
    "print(\"number of outlires overall : \", outliers.get(\"three_g\").count())"
   ]
  },
  {
   "cell_type": "markdown",
   "id": "f07fe330-ad1c-47f0-b8c5-cb07e8e88743",
   "metadata": {},
   "source": [
    "- that means all outliers are equals 0 so \n",
    "- i cann't remove outliers becouse is 25% total data \n",
    "- the column three_g 0, 1 is not balanced the most of data is 1"
   ]
  },
  {
   "cell_type": "markdown",
   "id": "fdf6f567-f300-4b2c-bfe9-b714caf9bc07",
   "metadata": {},
   "source": [
    "### 4. Dimention reduction."
   ]
  },
  {
   "cell_type": "markdown",
   "id": "3262a07d-6eaa-452a-a19b-2c6831a3cfa9",
   "metadata": {},
   "source": [
    "##### a) rename column."
   ]
  },
  {
   "cell_type": "code",
   "execution_count": 15,
   "id": "8b53ca61-4f6f-4b2d-8abe-202e72f4b878",
   "metadata": {},
   "outputs": [
    {
     "data": {
      "text/html": [
       "<div>\n",
       "<style scoped>\n",
       "    .dataframe tbody tr th:only-of-type {\n",
       "        vertical-align: middle;\n",
       "    }\n",
       "\n",
       "    .dataframe tbody tr th {\n",
       "        vertical-align: top;\n",
       "    }\n",
       "\n",
       "    .dataframe thead th {\n",
       "        text-align: right;\n",
       "    }\n",
       "</style>\n",
       "<table border=\"1\" class=\"dataframe\">\n",
       "  <thead>\n",
       "    <tr style=\"text-align: right;\">\n",
       "      <th></th>\n",
       "      <th>battery_capacity</th>\n",
       "      <th>bluetooth</th>\n",
       "      <th>processor_speed</th>\n",
       "      <th>dual_sim</th>\n",
       "      <th>front_camera</th>\n",
       "      <th>four_g</th>\n",
       "      <th>internal_memory</th>\n",
       "      <th>mobile_depth</th>\n",
       "      <th>mobile_weight</th>\n",
       "      <th>processor_cores</th>\n",
       "      <th>...</th>\n",
       "      <th>screen_pixel_height</th>\n",
       "      <th>screen_pixel_width</th>\n",
       "      <th>ram_capacity</th>\n",
       "      <th>screen_height</th>\n",
       "      <th>screen_widt</th>\n",
       "      <th>talk_time</th>\n",
       "      <th>three_g</th>\n",
       "      <th>touch_screen</th>\n",
       "      <th>wifi</th>\n",
       "      <th>price_category</th>\n",
       "    </tr>\n",
       "  </thead>\n",
       "  <tbody>\n",
       "    <tr>\n",
       "      <th>1990</th>\n",
       "      <td>1617</td>\n",
       "      <td>1</td>\n",
       "      <td>2.4</td>\n",
       "      <td>0</td>\n",
       "      <td>8</td>\n",
       "      <td>1</td>\n",
       "      <td>36</td>\n",
       "      <td>0.8</td>\n",
       "      <td>85</td>\n",
       "      <td>1</td>\n",
       "      <td>...</td>\n",
       "      <td>743</td>\n",
       "      <td>1426</td>\n",
       "      <td>296</td>\n",
       "      <td>5</td>\n",
       "      <td>3</td>\n",
       "      <td>7</td>\n",
       "      <td>1</td>\n",
       "      <td>0</td>\n",
       "      <td>0</td>\n",
       "      <td>0</td>\n",
       "    </tr>\n",
       "  </tbody>\n",
       "</table>\n",
       "<p>1 rows × 21 columns</p>\n",
       "</div>"
      ],
      "text/plain": [
       "      battery_capacity  bluetooth  processor_speed  dual_sim  front_camera  \\\n",
       "1990              1617          1              2.4         0             8   \n",
       "\n",
       "      four_g  internal_memory  mobile_depth  mobile_weight  processor_cores  \\\n",
       "1990       1               36           0.8             85                1   \n",
       "\n",
       "      ...  screen_pixel_height  screen_pixel_width  ram_capacity  \\\n",
       "1990  ...                  743                1426           296   \n",
       "\n",
       "      screen_height  screen_widt  talk_time  three_g  touch_screen  wifi  \\\n",
       "1990              5            3          7        1             0     0   \n",
       "\n",
       "      price_category  \n",
       "1990               0  \n",
       "\n",
       "[1 rows x 21 columns]"
      ]
     },
     "execution_count": 15,
     "metadata": {},
     "output_type": "execute_result"
    }
   ],
   "source": [
    "data.rename(columns={\n",
    "    'battery_power': 'battery_capacity',\n",
    "    'clock_speed': 'processor_speed',\n",
    "    'int_memory': 'internal_memory',\n",
    "    'ram': 'ram_capacity',\n",
    "    'blue': 'bluetooth',\n",
    "    'price_range': 'price_category',\n",
    "    'fc': 'front_camera',\n",
    "    'pc': 'primary_camera',\n",
    "    'sc_h': 'screen_height',\n",
    "    'sc_w': 'screen_widt',\n",
    "    'px_height': 'screen_pixel_height',\n",
    "    'px_width': 'screen_pixel_width',\n",
    "    'mobile_wt': 'mobile_weight',\n",
    "    'n_cores': 'processor_cores',\n",
    "    'm_dep': 'mobile_depth'\n",
    "}, inplace=True)\n",
    "data.sample()"
   ]
  },
  {
   "cell_type": "markdown",
   "id": "70749ac4-2796-4a07-9130-9f3c710d4650",
   "metadata": {},
   "source": [
    "##### b) reduse column number. "
   ]
  },
  {
   "cell_type": "code",
   "execution_count": 16,
   "id": "e63211e0-3984-47ec-8dfe-d47416643c78",
   "metadata": {},
   "outputs": [
    {
     "name": "stdout",
     "output_type": "stream",
     "text": [
      "battery_capacity       0.199889\n",
      "bluetooth              0.021252\n",
      "processor_speed       -0.005770\n",
      "dual_sim               0.018141\n",
      "front_camera           0.020385\n",
      "four_g                 0.014138\n",
      "internal_memory        0.044090\n",
      "mobile_depth           0.000625\n",
      "mobile_weight         -0.030559\n",
      "processor_cores        0.003382\n",
      "primary_camera         0.032949\n",
      "screen_pixel_height    0.148805\n",
      "screen_pixel_width     0.165000\n",
      "ram_capacity           0.916972\n",
      "screen_height          0.023045\n",
      "screen_widt            0.039475\n",
      "talk_time              0.021139\n",
      "three_g                0.023248\n",
      "touch_screen          -0.029757\n",
      "wifi                   0.019479\n",
      "Name: price_category, dtype: float64\n"
     ]
    }
   ],
   "source": [
    "# add new column will display price category as 0 for 0,1 (low price) and 1 for 2, 3(height price)\n",
    "data[\"bool_price_category\"] = [1 if price > 1 else 0 for price in data[\"price_category\"]]\n",
    "\n",
    "# display correlation between each column with other column\n",
    "print(data.corr()[\"price_category\"].drop([\"price_category\", \"bool_price_category\"]))"
   ]
  },
  {
   "cell_type": "code",
   "execution_count": 17,
   "id": "67702cb3-ab9e-4c1a-bfca-b2270bfcf298",
   "metadata": {},
   "outputs": [],
   "source": [
    "# column mobile_depth have a week correlation with price_category\n",
    "data = data.drop(columns=['mobile_depth'])"
   ]
  },
  {
   "cell_type": "markdown",
   "id": "c4a64528-c0b7-4883-aea0-f3f222522df3",
   "metadata": {},
   "source": [
    "### 5. Data standarization"
   ]
  },
  {
   "cell_type": "code",
   "execution_count": 18,
   "id": "4d34037e-4c76-452b-9b40-9a75f8eb075a",
   "metadata": {},
   "outputs": [],
   "source": [
    "# store old data\n",
    "old_data = data\n",
    "# standarize data\n",
    "data = pd.DataFrame(scaler.fit_transform(data))\n",
    "data.columns = old_data.columns"
   ]
  },
  {
   "cell_type": "markdown",
   "id": "b441ae38-cf3b-4040-9c76-9225120b77fc",
   "metadata": {},
   "source": [
    "### 6. Split into training and testing sets"
   ]
  },
  {
   "cell_type": "code",
   "execution_count": 19,
   "id": "148472c5-ce53-4402-a77c-4e6661babebb",
   "metadata": {},
   "outputs": [],
   "source": [
    "\n",
    "\n",
    "# split feature from a dataset\n",
    "x = data.drop(columns=[\"price_category\", \"bool_price_category\"])\n",
    "\n",
    "# split output from a dataset\n",
    "y = old_data[\"price_category\"]\n",
    "# split boolean output from a dataset\n",
    "by = old_data[\"bool_price_category\"]\n",
    "\n",
    "#split data into testing and training set\n",
    "x_train, x_test, y_train, y_test = train_test_split(x, y, test_size=0.2, random_state=49)\n",
    "bx_train, bx_test, by_train, by_test = train_test_split(x, by, test_size=0.2, random_state=49)"
   ]
  },
  {
   "cell_type": "markdown",
   "id": "6b52467f-753b-4743-9749-d5e5d631985e",
   "metadata": {},
   "source": [
    "# Modeling Section\n",
    "1. K-Nearest Neighbors (KNN)\n",
    "2. Naive Bayes\n",
    "3. Support Vector Machine (SVM)\n",
    "4. Decision Tree"
   ]
  },
  {
   "cell_type": "markdown",
   "id": "b997ee50-0f1d-4e3f-a921-fe33134fd3e5",
   "metadata": {},
   "source": [
    "## 1. K-Nearest Neighbors (KNN)"
   ]
  },
  {
   "cell_type": "markdown",
   "id": "92b1893d-3c74-418e-b990-fc265c489970",
   "metadata": {},
   "source": [
    "#### 1. Implement the KNN algorithm using a suitable library (e.g., scikit-learn) with a range of k values.\n"
   ]
  },
  {
   "cell_type": "code",
   "execution_count": 20,
   "id": "2caba0f7-1786-40fa-8598-05697f43fd95",
   "metadata": {},
   "outputs": [],
   "source": [
    "# code"
   ]
  },
  {
   "cell_type": "markdown",
   "id": "6c672672-4079-41b3-b071-2bdc3a179e9c",
   "metadata": {},
   "source": [
    "#### 2. Train the model on the training set and evaluate its performance using appropriate evaluation metrics (e.g., accuracy,precision, recall, F1-score)."
   ]
  },
  {
   "cell_type": "code",
   "execution_count": 21,
   "id": "8ea6da97-6d07-4c20-bcd6-f453a6f35018",
   "metadata": {},
   "outputs": [],
   "source": [
    "# code"
   ]
  },
  {
   "cell_type": "markdown",
   "id": "a496aba1-66c9-4dc7-bcc1-8bebebc36f0c",
   "metadata": {},
   "source": [
    "#### 3. Experiment with different distance metrics and discuss their impact on the model’s performance.\n"
   ]
  },
  {
   "cell_type": "code",
   "execution_count": 22,
   "id": "1fa58f7e-5a59-4d7c-b2e6-6ff156354ff7",
   "metadata": {},
   "outputs": [],
   "source": [
    "# code"
   ]
  },
  {
   "cell_type": "markdown",
   "id": "20f3df84-afe5-4db9-a35e-857b6e75cdc5",
   "metadata": {},
   "source": [
    "## 2. Naive Bayes"
   ]
  },
  {
   "cell_type": "markdown",
   "id": "31943fc5-fd4b-4970-ae32-f0d121de7495",
   "metadata": {},
   "source": [
    "#### 1. Implement the Naive Bayes algorithm using a suitable library (e.g., scikitlearn).\n"
   ]
  },
  {
   "cell_type": "code",
   "execution_count": 23,
   "id": "d796d062-b279-4a41-86a8-3562e2fb7275",
   "metadata": {
    "scrolled": true
   },
   "outputs": [
    {
     "data": {
      "text/html": [
       "<style>#sk-container-id-1 {color: black;background-color: white;}#sk-container-id-1 pre{padding: 0;}#sk-container-id-1 div.sk-toggleable {background-color: white;}#sk-container-id-1 label.sk-toggleable__label {cursor: pointer;display: block;width: 100%;margin-bottom: 0;padding: 0.3em;box-sizing: border-box;text-align: center;}#sk-container-id-1 label.sk-toggleable__label-arrow:before {content: \"▸\";float: left;margin-right: 0.25em;color: #696969;}#sk-container-id-1 label.sk-toggleable__label-arrow:hover:before {color: black;}#sk-container-id-1 div.sk-estimator:hover label.sk-toggleable__label-arrow:before {color: black;}#sk-container-id-1 div.sk-toggleable__content {max-height: 0;max-width: 0;overflow: hidden;text-align: left;background-color: #f0f8ff;}#sk-container-id-1 div.sk-toggleable__content pre {margin: 0.2em;color: black;border-radius: 0.25em;background-color: #f0f8ff;}#sk-container-id-1 input.sk-toggleable__control:checked~div.sk-toggleable__content {max-height: 200px;max-width: 100%;overflow: auto;}#sk-container-id-1 input.sk-toggleable__control:checked~label.sk-toggleable__label-arrow:before {content: \"▾\";}#sk-container-id-1 div.sk-estimator input.sk-toggleable__control:checked~label.sk-toggleable__label {background-color: #d4ebff;}#sk-container-id-1 div.sk-label input.sk-toggleable__control:checked~label.sk-toggleable__label {background-color: #d4ebff;}#sk-container-id-1 input.sk-hidden--visually {border: 0;clip: rect(1px 1px 1px 1px);clip: rect(1px, 1px, 1px, 1px);height: 1px;margin: -1px;overflow: hidden;padding: 0;position: absolute;width: 1px;}#sk-container-id-1 div.sk-estimator {font-family: monospace;background-color: #f0f8ff;border: 1px dotted black;border-radius: 0.25em;box-sizing: border-box;margin-bottom: 0.5em;}#sk-container-id-1 div.sk-estimator:hover {background-color: #d4ebff;}#sk-container-id-1 div.sk-parallel-item::after {content: \"\";width: 100%;border-bottom: 1px solid gray;flex-grow: 1;}#sk-container-id-1 div.sk-label:hover label.sk-toggleable__label {background-color: #d4ebff;}#sk-container-id-1 div.sk-serial::before {content: \"\";position: absolute;border-left: 1px solid gray;box-sizing: border-box;top: 0;bottom: 0;left: 50%;z-index: 0;}#sk-container-id-1 div.sk-serial {display: flex;flex-direction: column;align-items: center;background-color: white;padding-right: 0.2em;padding-left: 0.2em;position: relative;}#sk-container-id-1 div.sk-item {position: relative;z-index: 1;}#sk-container-id-1 div.sk-parallel {display: flex;align-items: stretch;justify-content: center;background-color: white;position: relative;}#sk-container-id-1 div.sk-item::before, #sk-container-id-1 div.sk-parallel-item::before {content: \"\";position: absolute;border-left: 1px solid gray;box-sizing: border-box;top: 0;bottom: 0;left: 50%;z-index: -1;}#sk-container-id-1 div.sk-parallel-item {display: flex;flex-direction: column;z-index: 1;position: relative;background-color: white;}#sk-container-id-1 div.sk-parallel-item:first-child::after {align-self: flex-end;width: 50%;}#sk-container-id-1 div.sk-parallel-item:last-child::after {align-self: flex-start;width: 50%;}#sk-container-id-1 div.sk-parallel-item:only-child::after {width: 0;}#sk-container-id-1 div.sk-dashed-wrapped {border: 1px dashed gray;margin: 0 0.4em 0.5em 0.4em;box-sizing: border-box;padding-bottom: 0.4em;background-color: white;}#sk-container-id-1 div.sk-label label {font-family: monospace;font-weight: bold;display: inline-block;line-height: 1.2em;}#sk-container-id-1 div.sk-label-container {text-align: center;}#sk-container-id-1 div.sk-container {/* jupyter's `normalize.less` sets `[hidden] { display: none; }` but bootstrap.min.css set `[hidden] { display: none !important; }` so we also need the `!important` here to be able to override the default hidden behavior on the sphinx rendered scikit-learn.org. See: https://github.com/scikit-learn/scikit-learn/issues/21755 */display: inline-block !important;position: relative;}#sk-container-id-1 div.sk-text-repr-fallback {display: none;}</style><div id=\"sk-container-id-1\" class=\"sk-top-container\"><div class=\"sk-text-repr-fallback\"><pre>GaussianNB()</pre><b>In a Jupyter environment, please rerun this cell to show the HTML representation or trust the notebook. <br />On GitHub, the HTML representation is unable to render, please try loading this page with nbviewer.org.</b></div><div class=\"sk-container\" hidden><div class=\"sk-item\"><div class=\"sk-estimator sk-toggleable\"><input class=\"sk-toggleable__control sk-hidden--visually\" id=\"sk-estimator-id-1\" type=\"checkbox\" checked><label for=\"sk-estimator-id-1\" class=\"sk-toggleable__label sk-toggleable__label-arrow\">GaussianNB</label><div class=\"sk-toggleable__content\"><pre>GaussianNB()</pre></div></div></div></div></div>"
      ],
      "text/plain": [
       "GaussianNB()"
      ]
     },
     "execution_count": 23,
     "metadata": {},
     "output_type": "execute_result"
    }
   ],
   "source": [
    "# model training \n",
    "# regular classification\n",
    "naive_bayes_model = GaussianNB()\n",
    "naive_bayes_model.fit(x_train, y_train)\n",
    "\n",
    "# boolean classification\n",
    "bool_naive_bayes_model = GaussianNB()\n",
    "bool_naive_bayes_model.fit(bx_train, by_train)"
   ]
  },
  {
   "cell_type": "markdown",
   "id": "404a474a-6869-460e-9b16-d5ab4eb64a4c",
   "metadata": {},
   "source": [
    "#### 2. Train the model on the training set and evaluate its performance using appropriate evaluation metrics.\n"
   ]
  },
  {
   "cell_type": "code",
   "execution_count": 24,
   "id": "331147a7-5f04-4e83-91f9-daaebeb83a2d",
   "metadata": {},
   "outputs": [
    {
     "name": "stdout",
     "output_type": "stream",
     "text": [
      "for regular classification :\n",
      "accuracy score : % 77.25\n",
      "\n",
      "\n",
      "for boolean classification :\n",
      "accuracy score : % 91.75\n",
      "recall score : % 92.45\n",
      "f1 score : % 92.24\n"
     ]
    }
   ],
   "source": [
    "# model testing\n",
    "y_predect = naive_bayes_model.predict(x_test)\n",
    "accuracy = accuracy_score(y_test, y_predect)\n",
    "\n",
    "print(\"for regular classification :\")\n",
    "print(\"accuracy score : %\", accuracy.round(4) * 100)\n",
    "\n",
    "print(\"\\n\\nfor boolean classification :\")\n",
    "by_predect = bool_naive_bayes_model.predict(bx_test)\n",
    "accuracy = accuracy_score(by_test, by_predect)\n",
    "recall = recall_score(by_test, by_predect)\n",
    "f1 = f1_score(by_test, by_predect)\n",
    "\n",
    "print(\"accuracy score : %\", accuracy.round(4) * 100)\n",
    "print(\"recall score : %\", recall.round(4) * 100)\n",
    "print(\"f1 score : %\", f1.round(4) * 100)"
   ]
  },
  {
   "cell_type": "markdown",
   "id": "fb180ce7-d7ff-420b-8c8d-1c587f67efa6",
   "metadata": {},
   "source": [
    "#### 3. Apply the trained model to the testing set for predictions.\n"
   ]
  },
  {
   "cell_type": "code",
   "execution_count": 38,
   "id": "012f56ff-87ea-4b33-b482-55c86aa09118",
   "metadata": {},
   "outputs": [
    {
     "data": {
      "text/html": [
       "<div>\n",
       "<style scoped>\n",
       "    .dataframe tbody tr th:only-of-type {\n",
       "        vertical-align: middle;\n",
       "    }\n",
       "\n",
       "    .dataframe tbody tr th {\n",
       "        vertical-align: top;\n",
       "    }\n",
       "\n",
       "    .dataframe thead th {\n",
       "        text-align: right;\n",
       "    }\n",
       "</style>\n",
       "<table border=\"1\" class=\"dataframe\">\n",
       "  <thead>\n",
       "    <tr style=\"text-align: right;\">\n",
       "      <th></th>\n",
       "      <th>battery_capacity</th>\n",
       "      <th>bluetooth</th>\n",
       "      <th>processor_speed</th>\n",
       "      <th>dual_sim</th>\n",
       "      <th>front_camera</th>\n",
       "      <th>four_g</th>\n",
       "      <th>internal_memory</th>\n",
       "      <th>mobile_depth</th>\n",
       "      <th>mobile_weight</th>\n",
       "      <th>processor_cores</th>\n",
       "      <th>screen_pixel_height</th>\n",
       "      <th>screen_pixel_width</th>\n",
       "      <th>ram_capacity</th>\n",
       "      <th>screen_height</th>\n",
       "      <th>screen_width</th>\n",
       "      <th>talk_time</th>\n",
       "      <th>three_g</th>\n",
       "      <th>touch_screen</th>\n",
       "      <th>wifi</th>\n",
       "    </tr>\n",
       "  </thead>\n",
       "  <tbody>\n",
       "    <tr>\n",
       "      <th>0</th>\n",
       "      <td>3500</td>\n",
       "      <td>1</td>\n",
       "      <td>2.3</td>\n",
       "      <td>1</td>\n",
       "      <td>8</td>\n",
       "      <td>1</td>\n",
       "      <td>64</td>\n",
       "      <td>8.5</td>\n",
       "      <td>180</td>\n",
       "      <td>8</td>\n",
       "      <td>2400</td>\n",
       "      <td>1080</td>\n",
       "      <td>6</td>\n",
       "      <td>6.4</td>\n",
       "      <td>3.0</td>\n",
       "      <td>12</td>\n",
       "      <td>1</td>\n",
       "      <td>1</td>\n",
       "      <td>1</td>\n",
       "    </tr>\n",
       "    <tr>\n",
       "      <th>1</th>\n",
       "      <td>3000</td>\n",
       "      <td>0</td>\n",
       "      <td>2.0</td>\n",
       "      <td>0</td>\n",
       "      <td>12</td>\n",
       "      <td>1</td>\n",
       "      <td>32</td>\n",
       "      <td>8.2</td>\n",
       "      <td>150</td>\n",
       "      <td>4</td>\n",
       "      <td>2200</td>\n",
       "      <td>720</td>\n",
       "      <td>4</td>\n",
       "      <td>5.5</td>\n",
       "      <td>2.8</td>\n",
       "      <td>10</td>\n",
       "      <td>1</td>\n",
       "      <td>1</td>\n",
       "      <td>0</td>\n",
       "    </tr>\n",
       "    <tr>\n",
       "      <th>2</th>\n",
       "      <td>4000</td>\n",
       "      <td>1</td>\n",
       "      <td>2.5</td>\n",
       "      <td>1</td>\n",
       "      <td>5</td>\n",
       "      <td>0</td>\n",
       "      <td>128</td>\n",
       "      <td>9.0</td>\n",
       "      <td>200</td>\n",
       "      <td>6</td>\n",
       "      <td>2560</td>\n",
       "      <td>1440</td>\n",
       "      <td>8</td>\n",
       "      <td>6.7</td>\n",
       "      <td>3.2</td>\n",
       "      <td>14</td>\n",
       "      <td>0</td>\n",
       "      <td>1</td>\n",
       "      <td>1</td>\n",
       "    </tr>\n",
       "  </tbody>\n",
       "</table>\n",
       "</div>"
      ],
      "text/plain": [
       "   battery_capacity  bluetooth  processor_speed  dual_sim  front_camera  \\\n",
       "0              3500          1              2.3         1             8   \n",
       "1              3000          0              2.0         0            12   \n",
       "2              4000          1              2.5         1             5   \n",
       "\n",
       "   four_g  internal_memory  mobile_depth  mobile_weight  processor_cores  \\\n",
       "0       1               64           8.5            180                8   \n",
       "1       1               32           8.2            150                4   \n",
       "2       0              128           9.0            200                6   \n",
       "\n",
       "   screen_pixel_height  screen_pixel_width  ram_capacity  screen_height  \\\n",
       "0                 2400                1080             6            6.4   \n",
       "1                 2200                 720             4            5.5   \n",
       "2                 2560                1440             8            6.7   \n",
       "\n",
       "   screen_width  talk_time  three_g  touch_screen  wifi  \n",
       "0           3.0         12        1             1     1  \n",
       "1           2.8         10        1             1     0  \n",
       "2           3.2         14        0             1     1  "
      ]
     },
     "execution_count": 38,
     "metadata": {},
     "output_type": "execute_result"
    }
   ],
   "source": [
    "test_data = pd.DataFrame({\n",
    "    'battery_capacity': [3500, 3000, 4000],        # Example battery capacities\n",
    "    'bluetooth': [1, 0, 1],                        # Bluetooth: yes/no (1/0)\n",
    "    'processor_speed': [2.3, 2.0, 2.5],            # Processor speeds\n",
    "    'dual_sim': [1, 0, 1],                         # Dual sim: yes/no (1/0)\n",
    "    'front_camera': [8, 12, 5],                    # Front camera megapixels\n",
    "    'four_g': [1, 1, 0],                           # 4G support: yes/no (1/0)\n",
    "    'internal_memory': [64, 32, 128],              # Internal memory (GB)\n",
    "    'mobile_depth': [8.5, 8.2, 9.0],               # Mobile depth (mm)\n",
    "    'mobile_weight': [180, 150, 200],              # Mobile weight (grams)\n",
    "    'processor_cores': [8, 4, 6],                  # Processor cores\n",
    "    'screen_pixel_height': [2400, 2200, 2560],     # Screen pixel height\n",
    "    'screen_pixel_width': [1080, 720, 1440],       # Screen pixel width\n",
    "    'ram_capacity': [6, 4, 8],                     # RAM capacity (GB)\n",
    "    'screen_height': [6.4, 5.5, 6.7],              # Screen height (inches)\n",
    "    'screen_width': [3.0, 2.8, 3.2],               # Screen width (inches)\n",
    "    'talk_time': [12, 10, 14],                     # Talk time (hours)\n",
    "    'three_g': [1, 1, 0],                          # 3G support: yes/no (1/0)\n",
    "    'touch_screen': [1, 1, 1],                     # Touch screen: yes (1)\n",
    "    'wifi': [1, 0, 1]                              # Wi-Fi support: yes/no (1/0)\n",
    "})\n",
    "\n",
    "test_data.head()"
   ]
  },
  {
   "cell_type": "code",
   "execution_count": 45,
   "id": "a9f828dc-ff38-4cc0-9e7d-c00b81e46145",
   "metadata": {},
   "outputs": [
    {
     "name": "stdout",
     "output_type": "stream",
     "text": [
      "output of regular classification :  [2 0 3]\n",
      "output of boolean classification :  [1 0 1]\n"
     ]
    }
   ],
   "source": [
    "test_data = pd.DataFrame(scaler.fit_transform(test_data))\n",
    "test_data.columns = x_test.columns\n",
    "\n",
    "# for regular classification\n",
    "predected_output = naive_bayes_model.predict(test_data)\n",
    "print(\"output of regular classification : \", predected_output)\n",
    "\n",
    "# for boolean classification\n",
    "predected_output = bool_naive_bayes_model.predict(test_data)\n",
    "print(\"output of boolean classification : \", predected_output)"
   ]
  },
  {
   "cell_type": "markdown",
   "id": "e765b8d5-5c92-43bc-89cb-a44690e3dbcb",
   "metadata": {},
   "source": [
    "## 3. Support Vector Machine (SVM)"
   ]
  },
  {
   "cell_type": "markdown",
   "id": "6a191b3a-e77b-426d-94a0-90ac6218d71d",
   "metadata": {},
   "source": [
    "#### 1. Implement the SVM algorithm using a suitable library (e.g., scikit-learn) with various hyperparameters.\r"
   ]
  },
  {
   "cell_type": "code",
   "execution_count": 26,
   "id": "710b4ee7-4933-4227-835c-479ea4e266ed",
   "metadata": {},
   "outputs": [],
   "source": [
    "# code"
   ]
  },
  {
   "cell_type": "markdown",
   "id": "fe37f175-9018-4751-8de9-f6490df9809d",
   "metadata": {},
   "source": [
    "#### 2. Train the model on the training set and evaluate its performance using appropriate evaluation metrics (e.g., accuracy,\r\n",
    "precision, recall, F1-score).\r"
   ]
  },
  {
   "cell_type": "code",
   "execution_count": 27,
   "id": "77ea5d36-f0c2-464e-bd28-691e543a2432",
   "metadata": {},
   "outputs": [],
   "source": [
    "# code"
   ]
  },
  {
   "cell_type": "markdown",
   "id": "626b76a5-2b6d-4d40-8f95-e92c2ccee718",
   "metadata": {},
   "source": [
    "#### 3. Experiment with different kernel functions (e.g., linear, polynomial, radial basis function) and regularization\r\n",
    "parameters to assess their impact on the model’s performance."
   ]
  },
  {
   "cell_type": "code",
   "execution_count": 28,
   "id": "c6eb9696-33cd-4986-9c51-eebb5450b333",
   "metadata": {},
   "outputs": [],
   "source": [
    "# code"
   ]
  },
  {
   "cell_type": "markdown",
   "id": "d03bb990-ceac-4824-8372-c2337870a21e",
   "metadata": {},
   "source": [
    "#### 4. Tune the hyperparameters (e.g., C, gamma) using techniques like grid search or randomized search to optimize the\r\n",
    "model's performance.\r"
   ]
  },
  {
   "cell_type": "code",
   "execution_count": 29,
   "id": "c60f1bdf-3e18-4389-9b6f-fca05a5f9cb8",
   "metadata": {},
   "outputs": [],
   "source": [
    "# code"
   ]
  },
  {
   "cell_type": "markdown",
   "id": "4e65c17b-976b-4f2c-89e7-b304c6fe800e",
   "metadata": {},
   "source": [
    "#### 5. Select the best combination of hyperparameters based on performance metrics and apply the tuned model to the\r\n",
    "testing set for predictions."
   ]
  },
  {
   "cell_type": "code",
   "execution_count": 30,
   "id": "d6e5941b-7a12-4c82-9f5d-6478972d6935",
   "metadata": {},
   "outputs": [],
   "source": [
    "# code"
   ]
  },
  {
   "cell_type": "markdown",
   "id": "2118af0e-9877-46e8-a48b-79328242e1ed",
   "metadata": {},
   "source": [
    "## 4. Decision Tree"
   ]
  },
  {
   "cell_type": "markdown",
   "id": "053933c8-279d-47d1-90a9-05ff6c3e6746",
   "metadata": {},
   "source": [
    "#### 1. Implement the Decision Tree algorithm using a suitable library (e.g., scikit-learn)."
   ]
  },
  {
   "cell_type": "code",
   "execution_count": 31,
   "id": "19cc3ac2-b3bb-4f2a-b29b-a323282025b3",
   "metadata": {},
   "outputs": [],
   "source": [
    "# code"
   ]
  },
  {
   "cell_type": "markdown",
   "id": "7cd311a1-bef4-4d51-82e5-cab50b2e50f9",
   "metadata": {},
   "source": [
    "#### 2. Train the model on the training set and evaluate its performance using appropriate evaluation metrics (e.g., accuracy,\r\n",
    "precision, recall, F1-score).\r"
   ]
  },
  {
   "cell_type": "code",
   "execution_count": 32,
   "id": "48c06e30-f009-41b3-821b-8cd2dce23caf",
   "metadata": {},
   "outputs": [],
   "source": [
    "# code"
   ]
  },
  {
   "cell_type": "markdown",
   "id": "f78eee87-628a-4ce9-8dde-855cd62e8312",
   "metadata": {},
   "source": [
    "#### 3. Experiment with different hyperparameters (e.g., max depth, min samples split, criterion) to analyze their impact on\r\n",
    "performance."
   ]
  },
  {
   "cell_type": "code",
   "execution_count": 33,
   "id": "fd323df6-357c-4133-bc98-71a4cd7cc966",
   "metadata": {},
   "outputs": [],
   "source": [
    "# code"
   ]
  },
  {
   "cell_type": "markdown",
   "id": "cbd60cf7-0805-4724-b480-06910df73376",
   "metadata": {},
   "source": [
    "#### 4. Use techniques like grid search or randomized search to optimize the model’s performance.\r"
   ]
  },
  {
   "cell_type": "code",
   "execution_count": 34,
   "id": "a71249cc-3d51-43cf-891d-3191ad0467db",
   "metadata": {},
   "outputs": [],
   "source": [
    "# code"
   ]
  },
  {
   "cell_type": "markdown",
   "id": "43f7f2d9-429b-480d-a55d-f522420274fc",
   "metadata": {},
   "source": [
    "#### 5. Visualize the decision tree structure and interpret the splits to provide insights.\r"
   ]
  },
  {
   "cell_type": "code",
   "execution_count": 35,
   "id": "4e19b455-e72d-4fe0-bf0b-dd64e81f984e",
   "metadata": {},
   "outputs": [],
   "source": [
    "# code"
   ]
  },
  {
   "cell_type": "markdown",
   "id": "7630a90e-f1a6-41b4-8524-2aae1f9f924c",
   "metadata": {},
   "source": [
    "#### 6. Apply the best-performing Decision Tree model to the testing set for predictions.\r"
   ]
  },
  {
   "cell_type": "code",
   "execution_count": 36,
   "id": "95feb171-7a66-46d3-a3ff-a5ddffad16c9",
   "metadata": {},
   "outputs": [],
   "source": [
    "# code"
   ]
  },
  {
   "cell_type": "markdown",
   "id": "1e505148-1000-4d92-94cd-ba0f3f0d64d3",
   "metadata": {},
   "source": []
  }
 ],
 "metadata": {
  "kernelspec": {
   "display_name": "Python 3 (ipykernel)",
   "language": "python",
   "name": "python3"
  },
  "language_info": {
   "codemirror_mode": {
    "name": "ipython",
    "version": 3
   },
   "file_extension": ".py",
   "mimetype": "text/x-python",
   "name": "python",
   "nbconvert_exporter": "python",
   "pygments_lexer": "ipython3",
   "version": "3.11.7"
  }
 },
 "nbformat": 4,
 "nbformat_minor": 5
}
